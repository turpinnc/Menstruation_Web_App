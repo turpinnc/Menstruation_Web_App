{
 "cells": [
  {
   "cell_type": "code",
   "execution_count": 1,
   "id": "01fbc367-59de-4ca3-a59b-22c7089eb5f3",
   "metadata": {},
   "outputs": [
    {
     "ename": "ModuleNotFoundError",
     "evalue": "No module named 'streamlit_jupyter'",
     "output_type": "error",
     "traceback": [
      "\u001b[0;31m---------------------------------------------------------------------------\u001b[0m",
      "\u001b[0;31mModuleNotFoundError\u001b[0m                       Traceback (most recent call last)",
      "Cell \u001b[0;32mIn[1], line 1\u001b[0m\n\u001b[0;32m----> 1\u001b[0m \u001b[38;5;28;01mfrom\u001b[39;00m \u001b[38;5;21;01mstreamlit_jupyter\u001b[39;00m \u001b[38;5;28;01mimport\u001b[39;00m StreamlitPatcher\n\u001b[1;32m      2\u001b[0m \u001b[38;5;28;01mimport\u001b[39;00m \u001b[38;5;21;01mstreamlit\u001b[39;00m \u001b[38;5;28;01mas\u001b[39;00m \u001b[38;5;21;01mst\u001b[39;00m\n\u001b[1;32m      4\u001b[0m \u001b[38;5;66;03m# Initialize Streamlit in Jupyter\u001b[39;00m\n",
      "\u001b[0;31mModuleNotFoundError\u001b[0m: No module named 'streamlit_jupyter'"
     ]
    }
   ],
   "source": [
    "from streamlit_jupyter import StreamlitPatcher\n",
    "import streamlit as st\n",
    "\n",
    "# Initialize Streamlit in Jupyter\n",
    "StreamlitPatcher().patch()\n",
    "\n",
    "# Test Streamlit\n",
    "st.title(\"Streamlit in Jupyter Notebook Test\")\n",
    "st.write(\"If you see this, Streamlit is working!\")\n"
   ]
  },
  {
   "cell_type": "code",
   "execution_count": null,
   "id": "a98f7ead-4fb7-4966-9082-78a02962e5f1",
   "metadata": {},
   "outputs": [],
   "source": []
  }
 ],
 "metadata": {
  "kernelspec": {
   "display_name": "Python 3 (ipykernel)",
   "language": "python",
   "name": "python3"
  },
  "language_info": {
   "codemirror_mode": {
    "name": "ipython",
    "version": 3
   },
   "file_extension": ".py",
   "mimetype": "text/x-python",
   "name": "python",
   "nbconvert_exporter": "python",
   "pygments_lexer": "ipython3",
   "version": "3.13.0"
  }
 },
 "nbformat": 4,
 "nbformat_minor": 5
}
